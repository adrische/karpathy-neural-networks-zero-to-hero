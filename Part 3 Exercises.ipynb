{
 "cells": [
  {
   "cell_type": "markdown",
   "id": "5afc081b-04da-47ad-9587-95dd74430805",
   "metadata": {},
   "source": [
    "# E01\n",
    "\n",
    "Tune the hyperparameters of the training to beat my best validation loss of 2.2\n"
   ]
  },
  {
   "cell_type": "code",
   "execution_count": 3,
   "id": "5f7aeab1-08eb-453a-97d4-f05671e72778",
   "metadata": {},
   "outputs": [],
   "source": [
    "import torch\n",
    "import torch.nn.functional as F\n",
    "import matplotlib.pyplot as plt\n",
    "%matplotlib inline"
   ]
  },
  {
   "cell_type": "code",
   "execution_count": 4,
   "id": "3208e098-d2a0-4554-b2ee-f412e50a8e59",
   "metadata": {
    "tags": []
   },
   "outputs": [],
   "source": [
    "words = open('names.txt', 'r').read().splitlines()\n",
    "# build the vocabulary of characters and mappings to/from integers\n",
    "chars = sorted(list(set(''.join(words))))\n",
    "stoi = {s:i+1 for i,s in enumerate(chars)}\n",
    "stoi['.'] = 0\n",
    "itos = {i:s for s,i in stoi.items()}"
   ]
  },
  {
   "cell_type": "code",
   "execution_count": 569,
   "id": "6f0bbaa8-668d-4793-be8a-1e413efed05d",
   "metadata": {
    "tags": []
   },
   "outputs": [
    {
     "name": "stdout",
     "output_type": "stream",
     "text": [
      "torch.Size([182580, 5]) torch.Size([182580])\n",
      "torch.Size([22740, 5]) torch.Size([22740])\n",
      "torch.Size([22826, 5]) torch.Size([22826])\n",
      "torch.Size([228146, 5]) torch.Size([228146])\n"
     ]
    }
   ],
   "source": [
    "def build_dataset(words):\n",
    "    block_size = 5\n",
    "    X, Y = [], []\n",
    "    for w in words:\n",
    "        context = [0] * block_size\n",
    "        for ch in w + '.':\n",
    "            ix = stoi[ch]\n",
    "            X.append(context)\n",
    "            Y.append(ix)\n",
    "            context = context[1:] + [ix]\n",
    "    X = torch.tensor(X)\n",
    "    Y = torch.tensor(Y)\n",
    "    print(X.shape, Y.shape)\n",
    "    return X, Y\n",
    "\n",
    "import random\n",
    "random.seed(42)\n",
    "random.shuffle(words)\n",
    "n1 = int(0.8*len(words))\n",
    "n2 = int(0.9*len(words))\n",
    "\n",
    "# train, dev, test\n",
    "Xtr, Ytr = build_dataset(words[:n1]) \n",
    "Xdev, Ydev = build_dataset(words[n1:n2])\n",
    "Xte, Yte = build_dataset(words[n2:])\n",
    "Xall, Yall = build_dataset(words)"
   ]
  },
  {
   "cell_type": "code",
   "execution_count": 578,
   "id": "49956638-cd83-4bc5-bd9d-4915f9ed079d",
   "metadata": {
    "tags": []
   },
   "outputs": [
    {
     "data": {
      "text/plain": [
       "23697"
      ]
     },
     "execution_count": 578,
     "metadata": {},
     "output_type": "execute_result"
    }
   ],
   "source": [
    "# network initialization\n",
    "block_size = 5\n",
    "dim_emb = 10 # larger than 10 was better than 10, best result 15, but 20 was not better\n",
    "dim_hidden = 300 # 1000 was not better than 300, best result 300\n",
    "\n",
    "g = torch.Generator().manual_seed(2147483647)\n",
    "C = torch.randn((27, dim_emb), generator=g)\n",
    "W1 = torch.randn((block_size * dim_emb, dim_hidden), generator=g)\n",
    "b1 = torch.randn(dim_hidden, generator=g)\n",
    "W2 = torch.randn((dim_hidden, 27), generator=g)\n",
    "b2 = torch.randn(27, generator=g)\n",
    "parameters = [C, W1, b1, W2, b2]\n",
    "for p in parameters:\n",
    "    p.requires_grad = True\n",
    "sum(p.nelement() for p in parameters)"
   ]
  },
  {
   "cell_type": "code",
   "execution_count": 579,
   "id": "98328f04-fa69-4a58-8b5a-48cca104c5a2",
   "metadata": {
    "tags": []
   },
   "outputs": [],
   "source": [
    "def evaluate_loss(X, Y, printit = False):\n",
    "    emb = C[X] \n",
    "    h = torch.tanh(emb.view(-1, block_size * dim_emb) @ W1 + b1)\n",
    "    logits = h @ W2 + b2\n",
    "    loss = F.cross_entropy(logits, Y)\n",
    "    if printit: print(loss.item())\n",
    "    return loss"
   ]
  },
  {
   "cell_type": "code",
   "execution_count": 580,
   "id": "f01c435c-1b4c-4fd1-837f-ba79a841f333",
   "metadata": {
    "tags": []
   },
   "outputs": [
    {
     "name": "stdout",
     "output_type": "stream",
     "text": [
      "31.876401901245117\n"
     ]
    },
    {
     "data": {
      "text/plain": [
       "tensor(31.8764, grad_fn=<NllLossBackward0>)"
      ]
     },
     "execution_count": 580,
     "metadata": {},
     "output_type": "execute_result"
    }
   ],
   "source": [
    "# initialization loss\n",
    "evaluate_loss(Xall, Yall, printit=True)"
   ]
  },
  {
   "cell_type": "code",
   "execution_count": 581,
   "id": "bd40fad0-0f71-44a7-a024-ff1fd91bf30b",
   "metadata": {
    "tags": []
   },
   "outputs": [],
   "source": [
    "# training"
   ]
  },
  {
   "cell_type": "code",
   "execution_count": 582,
   "id": "bf7e4b9a-dd51-4b65-9502-e2cc2c228282",
   "metadata": {
    "tags": []
   },
   "outputs": [],
   "source": [
    "isteps = []\n",
    "loss_train = []\n",
    "loss_dev = []\n",
    "\n",
    "# empirical: larger leads to overfitting, worse dev set results\n",
    "# best result: 128\n",
    "minibatch_size = 128 \n",
    "\n",
    "# this learning rate progression seems to work well across many settings, \n",
    "# but was far from ideal for each setting, e.g., training was often too long\n",
    "lrs = [0.5]*5000 + [0.15]*10000 + [0.1]*5000 + [0.05]*5000 + [0.01]*5000 + [0.005]*5000 + [0.001]*50000\n",
    "n_steps = len(lrs)\n",
    "\n",
    "# try to train for a very long time"
   ]
  },
  {
   "cell_type": "code",
   "execution_count": 586,
   "id": "b2e9922c-a5eb-492c-b259-d49a7bb799b0",
   "metadata": {
    "tags": []
   },
   "outputs": [
    {
     "name": "stdout",
     "output_type": "stream",
     "text": [
      "Step  0  Dev loss:  tensor(29.8751)\n",
      "Step  5000  Dev loss:  tensor(2.3453)\n",
      "Step  10000  Dev loss:  tensor(2.1954)\n",
      "Step  15000  Dev loss:  tensor(2.1841)\n",
      "Step  20000  Dev loss:  tensor(2.1634)\n",
      "Step  25000  Dev loss:  tensor(2.1453)\n",
      "Step  30000  Dev loss:  tensor(2.1326)\n",
      "Step  35000  Dev loss:  tensor(2.1313)\n",
      "Step  40000  Dev loss:  tensor(2.1300)\n",
      "Step  45000  Dev loss:  tensor(2.1298)\n",
      "Step  50000  Dev loss:  tensor(2.1296)\n",
      "Step  55000  Dev loss:  tensor(2.1296)\n",
      "Step  60000  Dev loss:  tensor(2.1297)\n",
      "Step  65000  Dev loss:  tensor(2.1299)\n",
      "Step  70000  Dev loss:  tensor(2.1298)\n",
      "Step  75000  Dev loss:  tensor(2.1295)\n",
      "Step  80000  Dev loss:  tensor(2.1295)\n"
     ]
    }
   ],
   "source": [
    "for i in range(n_steps):\n",
    "    \n",
    "    # minibatch\n",
    "    ix = torch.randint(0, Xtr.shape[0], (minibatch_size, )) # but have approximate gradient\n",
    "    \n",
    "    # forward pass\n",
    "    emb = C[Xtr[ix]] \n",
    "    h = torch.tanh(emb.view(-1, block_size * dim_emb) @ W1 + b1)\n",
    "    logits = h @ W2 + b2\n",
    "    loss = F.cross_entropy(logits, Ytr[ix])  + (W1**2).mean() + (W2**2).mean() + (C**2).mean()\n",
    "    # backward pass\n",
    "    for p in parameters:\n",
    "        p.grad = None\n",
    "    loss.backward()\n",
    "    \n",
    "    lr = lrs[i]\n",
    "    \n",
    "    for p in parameters:\n",
    "        p.data += -lr * p.grad\n",
    "\n",
    "    \n",
    "    if i%100 == 0:\n",
    "        isteps.append(i)\n",
    "        loss_train.append(evaluate_loss(Xtr, Ytr).log10().item())\n",
    "        loss_dev.append(evaluate_loss(Xdev, Ydev).log10().item())\n",
    "    \n",
    "    if i%5000 == 0:\n",
    "        print('Step ', i, ' Dev loss: ', (10**torch.tensor(loss_dev[-3:])).mean())"
   ]
  },
  {
   "cell_type": "code",
   "execution_count": 587,
   "id": "46c9777e-9819-4985-a5a3-4d853163ea90",
   "metadata": {
    "tags": []
   },
   "outputs": [
    {
     "name": "stdout",
     "output_type": "stream",
     "text": [
      "2.1053969860076904\n",
      "2.129359483718872\n"
     ]
    },
    {
     "data": {
      "text/plain": [
       "tensor(2.1294, grad_fn=<NllLossBackward0>)"
      ]
     },
     "execution_count": 587,
     "metadata": {},
     "output_type": "execute_result"
    }
   ],
   "source": [
    "evaluate_loss(Xtr, Ytr, printit=True)\n",
    "evaluate_loss(Xdev, Ydev, printit=True)"
   ]
  },
  {
   "cell_type": "code",
   "execution_count": 588,
   "id": "b0e353a0-705f-44f8-9362-7a39a9d453ed",
   "metadata": {
    "tags": []
   },
   "outputs": [
    {
     "data": {
      "image/png": "[encoded data removed]",
      "text/plain": [
       "<Figure size 640x480 with 1 Axes>"
      ]
     },
     "metadata": {},
     "output_type": "display_data"
    }
   ],
   "source": [
    "plt.plot(isteps, loss_train, isteps, loss_dev)\n",
    "plt.ylim([0.3, 0.4])\n",
    "plt.legend(['train', 'dev']);"
   ]
  },
  {
   "cell_type": "code",
   "execution_count": 591,
   "id": "9483a453-fea5-4c6d-ba5a-7dbff4c4324d",
   "metadata": {
    "tags": []
   },
   "outputs": [
    {
     "data": {
      "text/plain": [
       "tensor(0.0341, grad_fn=<MeanBackward0>)"
      ]
     },
     "execution_count": 591,
     "metadata": {},
     "output_type": "execute_result"
    }
   ],
   "source": [
    "(C**2).mean()"
   ]
  },
  {
   "cell_type": "code",
   "execution_count": 551,
   "id": "cbf50f1a-e6ef-4d5c-a7fe-c75fb3d7bcb4",
   "metadata": {
    "tags": []
   },
   "outputs": [
    {
     "data": {
      "text/plain": [
       "tensor(2.2157, grad_fn=<AddBackward0>)"
      ]
     },
     "execution_count": 551,
     "metadata": {},
     "output_type": "execute_result"
    }
   ],
   "source": [
    "loss"
   ]
  },
  {
   "cell_type": "code",
   "execution_count": 592,
   "id": "5a3f3c4d-f381-407d-8922-21777b9bdc3d",
   "metadata": {
    "tags": []
   },
   "outputs": [
    {
     "data": {
      "text/plain": [
       "tensor(2.1257, grad_fn=<NllLossBackward0>)"
      ]
     },
     "execution_count": 592,
     "metadata": {},
     "output_type": "execute_result"
    }
   ],
   "source": [
    "# final: evaluate loss on test set\n",
    "evaluate_loss(Xte, Yte)"
   ]
  },
  {
   "cell_type": "markdown",
   "id": "b57edb9e-d0b4-45a7-806b-e63a5f47c194",
   "metadata": {},
   "source": [
    "# E02\n",
    "\n",
    "I was not careful with the intialization of the network in this video. \n",
    "\n",
    "1. What is the loss you'd get if the predicted probabilities at initialization were perfectly uniform? What loss do we achieve? \n",
    "2. Can you tune the initialization to get a starting loss that is much more similar to (1)?\n"
   ]
  },
  {
   "cell_type": "code",
   "execution_count": 316,
   "id": "8f26761d-6d0c-4ba2-9160-6f08e8559323",
   "metadata": {},
   "outputs": [
    {
     "name": "stdout",
     "output_type": "stream",
     "text": [
      "3.295837163925171\n"
     ]
    }
   ],
   "source": [
    "# 1. We got loss of 26\n",
    "# uniform probabilities (assuming each of 27 characters gets probability 1/27)\n",
    "logits = torch.tensor([1/27]*Yall.shape[0]*27).view(-1, 27).float().log()\n",
    "loss = F.cross_entropy(logits, Yall)\n",
    "print(loss.item())"
   ]
  },
  {
   "cell_type": "code",
   "execution_count": 424,
   "id": "8ec02740-3559-4d61-b5b8-493472bb3ebc",
   "metadata": {
    "tags": []
   },
   "outputs": [
    {
     "name": "stdout",
     "output_type": "stream",
     "text": [
      "3.368262529373169\n"
     ]
    },
    {
     "data": {
      "text/plain": [
       "tensor(3.3683, grad_fn=<NllLossBackward0>)"
      ]
     },
     "execution_count": 424,
     "metadata": {},
     "output_type": "execute_result"
    }
   ],
   "source": [
    "# 2. Tuning the network initialization, by changing the random initializations of the weights and biases\n",
    "block_size = 3\n",
    "dim_emb = 10\n",
    "dim_hidden = 200\n",
    "\n",
    "g = torch.Generator().manual_seed(2147483647)\n",
    "C = torch.rand((27, dim_emb), generator=g)\n",
    "W1 = torch.rand((block_size * dim_emb, dim_hidden), generator=g)\n",
    "b1 = torch.rand(dim_hidden, generator=g)\n",
    "W2 = torch.randn((dim_hidden, 27), generator=g)/100\n",
    "#b2 = torch.rand(27, generator=g)\n",
    "b2 = torch.tensor(1/27).log()\n",
    "parameters = [C, W1, b1, W2, b2]\n",
    "for p in parameters:\n",
    "    p.requires_grad = True\n",
    "sum(p.nelement() for p in parameters)\n",
    "\n",
    "h = torch.tanh(emb.view(-1, block_size * dim_emb) @ W1 + b1) \n",
    "# h is on [0, 1], but many values at 0 and at 1 -> mean 0 (guess)\n",
    "# hence logits has small standard deviation if W2 and b2 have small standard deviation\n",
    "# mean of logits is then mean of b2 -> set b2 deterministic log(1/27)\n",
    "logits = h @ W2 + b2 # logits should be close together for uniform 1/27 distribution\n",
    "\n",
    "def evaluate_loss(X, Y, printit = False):\n",
    "    emb = C[X] \n",
    "    h = torch.tanh(emb.view(-1, block_size * dim_emb) @ W1 + b1)\n",
    "    logits = h @ W2 + b2\n",
    "    loss = F.cross_entropy(logits, Y)\n",
    "    if printit: print(loss.item())\n",
    "    return loss\n",
    "\n",
    "\n",
    "evaluate_loss(Xall, Yall, printit=True)"
   ]
  },
  {
   "cell_type": "code",
   "execution_count": 417,
   "id": "edff11d7-f5bb-4ef5-9657-7f6f876be63d",
   "metadata": {
    "tags": []
   },
   "outputs": [
    {
     "data": {
      "image/png": "[encoded data removed]",
      "text/plain": [
       "<Figure size 640x480 with 1 Axes>"
      ]
     },
     "metadata": {},
     "output_type": "display_data"
    }
   ],
   "source": [
    "plt.hist(h.detach());"
   ]
  },
  {
   "cell_type": "markdown",
   "id": "77ea5b1d-55df-47d1-a030-d168af52825f",
   "metadata": {},
   "source": [
    "# E03\n",
    "\n",
    "Read the Bengio et al 2003 paper (link above), implement and try any idea from the paper. Did it work?"
   ]
  },
  {
   "cell_type": "markdown",
   "id": "762bfc21-dc2f-43f0-931d-d9246f23cd51",
   "metadata": {},
   "source": [
    "Potential improvements mentioned in the paper:\n",
    "* weight decay penalty (squared norm of parameters, applied only to the weights of the neural network and to the C matrix)\n",
    "  * I got to maybe 2.18 loss on the dev set by playing around with number the dimension of the embedding, the size of the hidden layer. With weight normalization I got around 2.15 on dev, 2.16 on test. Increasing block length to 5 gave test error of 2.125\n",
    "\n",
    "Not tried:\n",
    "* recurrent neural network instead of feed-forward network\n",
    "* direct connections from embedding to output layer\n",
    "* ensemble: combining the probability predictions of the neural network with those of an interpolated trigram model\n",
    "* the concrete parameterization of MLP10\n",
    "* question to self: what is perplexity\n",
    "* train on more data (more names) evaluate on test set from this dataset (first making sure, the additional data does not contain words from the test set)\n",
    "* Interpreting character embedding vectors (as was already done to some extend in the video)\n",
    "* for each character, have not one, but several embedding vectors\n",
    "\n",
    "There were other potential improvements mentioned, but either I found them too extensive as to be considered here (e.g., going to a different paper to try to improve speed by a factor of 100, or implementing parallel processing), or I did not really understand what was meant (e.g., the graph neural net approach)."
   ]
  },
  {
   "cell_type": "markdown",
   "id": "a808288b-6c7d-450c-ae77-fc0957a6a191",
   "metadata": {},
   "source": [
    "Summary\n",
    "Part 1\n",
    "Introduction to forward pass and backward pass (backpropagation) for some common operations\n",
    "\n",
    "Part 1 - Exercises\n",
    "analytical and numerical gradients\n",
    "backward passes for various operations (log, exp, division, negation)\n",
    "reproduction of the gradient from torch.Tensor in an example\n",
    "\n",
    "Part 2\n",
    "bigram character-level language model\n",
    "torch.Tensor \n",
    "the overall framework of language modeling that includes model training, sampling, and the evaluation of a loss (e.g. the negative log likelihood for classification)\n",
    "\n",
    "Part 2 - Exercises\n",
    "Trigram language model counting approach\n",
    "trigram language model neural net (with 1 layer) approach\n",
    "reproducing pytorch cross entropy losses (for class indices and class probabilities) and negative log likelihood loss for classes (1 dimensional case) and for image data (2 dimensional case)\n",
    "Visualization of changes in the weight matrix during 100 gradient descent operations\n",
    "Reproducing the pytorch Conv2d layer for an example\n",
    "\n",
    "Part 3 \n",
    "Reading Bengio et. al. \"A Neural Probabilistic Language Model\", from 2003. Following it, implementing a multilayer perceptron for next character prediction (character-level language model) with one hidden layer. \n",
    "Basic concepts of machine learning: model training, learning rate tuning, choice of hyperparameters, model evaluation, train/dev/test splits, under/overfitting.\n",
    "\n"
   ]
  }
 ],
 "metadata": {
  "kernelspec": {
   "display_name": "Python 3 (ipykernel)",
   "language": "python",
   "name": "python3"
  },
  "language_info": {
   "codemirror_mode": {
    "name": "ipython",
    "version": 3
   },
   "file_extension": ".py",
   "mimetype": "text/x-python",
   "name": "python",
   "nbconvert_exporter": "python",
   "pygments_lexer": "ipython3",
   "version": "3.11.4"
  }
 },
 "nbformat": 4,
 "nbformat_minor": 5
}
