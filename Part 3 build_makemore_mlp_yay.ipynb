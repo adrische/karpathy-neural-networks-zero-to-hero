{
 "cells": [
  {
   "cell_type": "raw",
   "id": "7d666f1e-c9b9-4527-87c9-68be7f117b8f",
   "metadata": {},
   "source": [
    "30 * 3 = 90 parameters (30 embedding dimension, 3 words)\n",
    "fully connected layer to 90 numbers\n",
    "tanh non linearity\n",
    "fully connected 17'000 output layer (so may words)\n",
    "softmax\n",
    "weights and biases\n",
    "\"plug out\" the row of C lookup (embedding)\n",
    "dashed arrows ignore those (variant of the neural network)\n",
    "page 6 of https://www.jmlr.org/papers/volume3/bengio03a/bengio03a.pdf"
   ]
  },
  {
   "cell_type": "code",
   "execution_count": 3,
   "id": "4ae70924-d2e2-4a53-95e7-3468de2ffd66",
   "metadata": {
    "tags": []
   },
   "outputs": [],
   "source": [
    "import torch\n",
    "import torch.nn.functional as F\n",
    "import matplotlib.pyplot as plt\n",
    "%matplotlib inline"
   ]
  },
  {
   "cell_type": "code",
   "execution_count": 4,
   "id": "f61b41d1-4f3b-4004-a43b-07c41f4e3849",
   "metadata": {
    "tags": []
   },
   "outputs": [
    {
     "data": {
      "text/plain": [
       "['emma', 'olivia', 'ava', 'isabella', 'sophia', 'charlotte', 'mia', 'amelia']"
      ]
     },
     "execution_count": 4,
     "metadata": {},
     "output_type": "execute_result"
    }
   ],
   "source": [
    "# read in all the words\n",
    "words = open('names.txt', 'r').read().splitlines()\n",
    "words[:8]"
   ]
  },
  {
   "cell_type": "code",
   "execution_count": 5,
   "id": "6198fd20-4c81-4902-af94-9e7e9ff58615",
   "metadata": {
    "tags": []
   },
   "outputs": [
    {
     "data": {
      "text/plain": [
       "32033"
      ]
     },
     "execution_count": 5,
     "metadata": {},
     "output_type": "execute_result"
    }
   ],
   "source": [
    "len(words)"
   ]
  },
  {
   "cell_type": "code",
   "execution_count": 6,
   "id": "34c97232-7e49-4c63-814a-866a8e340433",
   "metadata": {
    "tags": []
   },
   "outputs": [
    {
     "name": "stdout",
     "output_type": "stream",
     "text": [
      "{1: 'a', 2: 'b', 3: 'c', 4: 'd', 5: 'e', 6: 'f', 7: 'g', 8: 'h', 9: 'i', 10: 'j', 11: 'k', 12: 'l', 13: 'm', 14: 'n', 15: 'o', 16: 'p', 17: 'q', 18: 'r', 19: 's', 20: 't', 21: 'u', 22: 'v', 23: 'w', 24: 'x', 25: 'y', 26: 'z', 0: '.'}\n"
     ]
    }
   ],
   "source": [
    "# build the vocabulary of characters and mappings to/from integers\n",
    "chars = sorted(list(set(''.join(words))))\n",
    "stoi = {s:i+1 for i,s in enumerate(chars)}\n",
    "stoi['.'] = 0\n",
    "itos = {i:s for s,i in stoi.items()}\n",
    "print(itos)"
   ]
  },
  {
   "cell_type": "code",
   "execution_count": 46,
   "id": "ca38614c-69c3-4d53-9c46-972543e967fd",
   "metadata": {
    "tags": []
   },
   "outputs": [],
   "source": [
    "# build the dataset\n",
    "\n",
    "block_size = 3 # context length; how many characters do we take to predict the next one?\n",
    "X, Y = [], []\n",
    "for w in words:\n",
    "    # print(w)\n",
    "    context = [0] * block_size\n",
    "    for ch in w + '.':\n",
    "        ix = stoi[ch]\n",
    "        X.append(context)\n",
    "        Y.append(ix)\n",
    "        # print(''.join(itos[i] for i in context), '--->', itos[ix])\n",
    "        context = context[1:] + [ix] # crop and append\n",
    "        \n",
    "X = torch.tensor(X)\n",
    "Y = torch.tensor(Y)"
   ]
  },
  {
   "cell_type": "code",
   "execution_count": 47,
   "id": "f2de08ba-d3d2-4350-9eab-5b063e55b7e2",
   "metadata": {
    "tags": []
   },
   "outputs": [
    {
     "data": {
      "text/plain": [
       "(torch.Size([228146, 3]), torch.int64)"
      ]
     },
     "execution_count": 47,
     "metadata": {},
     "output_type": "execute_result"
    }
   ],
   "source": [
    "X.shape, X.dtype"
   ]
  },
  {
   "cell_type": "code",
   "execution_count": 9,
   "id": "1cf79c34-d2ed-427a-8a1a-57c18aa585c9",
   "metadata": {
    "tags": []
   },
   "outputs": [
    {
     "data": {
      "text/plain": [
       "tensor([-0.2080,  1.8524])"
      ]
     },
     "execution_count": 9,
     "metadata": {},
     "output_type": "execute_result"
    }
   ],
   "source": [
    "# lookup table C\n",
    "# 17000 -> 30 (in the paper)\n",
    "# we: 27 -> 2\n",
    "C = torch.randn((27, 2))\n",
    "C[5]"
   ]
  },
  {
   "cell_type": "code",
   "execution_count": 10,
   "id": "ad215ada-b20c-4413-bd86-b17014a6ed87",
   "metadata": {
    "tags": []
   },
   "outputs": [
    {
     "data": {
      "text/plain": [
       "tensor([-0.2080,  1.8524])"
      ]
     },
     "execution_count": 10,
     "metadata": {},
     "output_type": "execute_result"
    }
   ],
   "source": [
    "F.one_hot(torch.tensor(5), num_classes=27).float() @ C"
   ]
  },
  {
   "cell_type": "markdown",
   "id": "272fbf1b-30c1-406d-ba5f-9bd5f696919a",
   "metadata": {},
   "source": []
  },
  {
   "cell_type": "code",
   "execution_count": 11,
   "id": "d3e4b133-158b-4d8d-8d83-c818778237e6",
   "metadata": {
    "tags": []
   },
   "outputs": [],
   "source": [
    "emb = C[X]"
   ]
  },
  {
   "cell_type": "code",
   "execution_count": 12,
   "id": "07e3d22d-2331-43ee-ad3d-5fa8bdcdaacf",
   "metadata": {
    "tags": []
   },
   "outputs": [],
   "source": [
    "W1 = torch.randn((6, 100))\n",
    "b1 = torch.randn(100)"
   ]
  },
  {
   "cell_type": "code",
   "execution_count": 13,
   "id": "86aad364-27a2-425c-8020-167a4c155d04",
   "metadata": {
    "tags": []
   },
   "outputs": [],
   "source": [
    "# emb @ W1 + b1 does not work because shapes are not compatible"
   ]
  },
  {
   "cell_type": "code",
   "execution_count": 14,
   "id": "8e3b15a9-c82a-46bb-bd39-8ab0574ae77e",
   "metadata": {
    "tags": []
   },
   "outputs": [
    {
     "data": {
      "text/plain": [
       "torch.Size([32, 6])"
      ]
     },
     "execution_count": 14,
     "metadata": {},
     "output_type": "execute_result"
    }
   ],
   "source": [
    "torch.cat(torch.unbind(emb, 1), 1).shape"
   ]
  },
  {
   "cell_type": "code",
   "execution_count": 15,
   "id": "45c2dcb8-4249-4297-811a-2f1b5e993bf2",
   "metadata": {
    "tags": []
   },
   "outputs": [],
   "source": [
    "# storage offsets, strides, shapes\n",
    "# how tensors are represented \n",
    "# .storage(), .view()"
   ]
  },
  {
   "cell_type": "code",
   "execution_count": 16,
   "id": "db57006a-5eab-442c-8f83-c37180034e36",
   "metadata": {
    "tags": []
   },
   "outputs": [
    {
     "data": {
      "text/plain": [
       "tensor([[-2.3784,  1.2543, -2.3784,  1.2543, -2.3784,  1.2543],\n",
       "        [-2.3784,  1.2543, -2.3784,  1.2543, -0.2080,  1.8524],\n",
       "        [-2.3784,  1.2543, -0.2080,  1.8524, -0.4711,  0.6547],\n",
       "        [-0.2080,  1.8524, -0.4711,  0.6547, -0.4711,  0.6547],\n",
       "        [-0.4711,  0.6547, -0.4711,  0.6547, -1.3714,  1.3324],\n",
       "        [-2.3784,  1.2543, -2.3784,  1.2543, -2.3784,  1.2543],\n",
       "        [-2.3784,  1.2543, -2.3784,  1.2543,  2.6259,  0.8076],\n",
       "        [-2.3784,  1.2543,  2.6259,  0.8076,  0.2539,  2.3258],\n",
       "        [ 2.6259,  0.8076,  0.2539,  2.3258, -0.8255, -0.3556],\n",
       "        [ 0.2539,  2.3258, -0.8255, -0.3556,  0.9829,  0.0901],\n",
       "        [-0.8255, -0.3556,  0.9829,  0.0901, -0.8255, -0.3556],\n",
       "        [ 0.9829,  0.0901, -0.8255, -0.3556, -1.3714,  1.3324],\n",
       "        [-2.3784,  1.2543, -2.3784,  1.2543, -2.3784,  1.2543],\n",
       "        [-2.3784,  1.2543, -2.3784,  1.2543, -1.3714,  1.3324],\n",
       "        [-2.3784,  1.2543, -1.3714,  1.3324,  0.9829,  0.0901],\n",
       "        [-1.3714,  1.3324,  0.9829,  0.0901, -1.3714,  1.3324],\n",
       "        [-2.3784,  1.2543, -2.3784,  1.2543, -2.3784,  1.2543],\n",
       "        [-2.3784,  1.2543, -2.3784,  1.2543, -0.8255, -0.3556],\n",
       "        [-2.3784,  1.2543, -0.8255, -0.3556, -0.0950,  1.2907],\n",
       "        [-0.8255, -0.3556, -0.0950,  1.2907, -1.3714,  1.3324],\n",
       "        [-0.0950,  1.2907, -1.3714,  1.3324, -1.2835,  0.0600],\n",
       "        [-1.3714,  1.3324, -1.2835,  0.0600, -0.2080,  1.8524],\n",
       "        [-1.2835,  0.0600, -0.2080,  1.8524,  0.2539,  2.3258],\n",
       "        [-0.2080,  1.8524,  0.2539,  2.3258,  0.2539,  2.3258],\n",
       "        [ 0.2539,  2.3258,  0.2539,  2.3258, -1.3714,  1.3324],\n",
       "        [-2.3784,  1.2543, -2.3784,  1.2543, -2.3784,  1.2543],\n",
       "        [-2.3784,  1.2543, -2.3784,  1.2543, -0.0950,  1.2907],\n",
       "        [-2.3784,  1.2543, -0.0950,  1.2907,  2.6259,  0.8076],\n",
       "        [-0.0950,  1.2907,  2.6259,  0.8076,  0.9569,  0.3681],\n",
       "        [ 2.6259,  0.8076,  0.9569,  0.3681, -0.1953, -1.0566],\n",
       "        [ 0.9569,  0.3681, -0.1953, -1.0566, -0.8255, -0.3556],\n",
       "        [-0.1953, -1.0566, -0.8255, -0.3556, -1.3714,  1.3324]])"
      ]
     },
     "execution_count": 16,
     "metadata": {},
     "output_type": "execute_result"
    }
   ],
   "source": [
    "emb.view(32, 6)"
   ]
  },
  {
   "cell_type": "code",
   "execution_count": 17,
   "id": "c6a4105f-9fc5-40a0-99d8-172b95b7fba2",
   "metadata": {
    "tags": []
   },
   "outputs": [],
   "source": [
    "h = torch.tanh(emb.view(-1, 6) @ W1 + b1)"
   ]
  },
  {
   "cell_type": "code",
   "execution_count": 18,
   "id": "7cbe3ef0-4047-47e6-9526-8e0006e4f3d0",
   "metadata": {
    "tags": []
   },
   "outputs": [
    {
     "data": {
      "text/plain": [
       "torch.Size([32, 100])"
      ]
     },
     "execution_count": 18,
     "metadata": {},
     "output_type": "execute_result"
    }
   ],
   "source": [
    "h.shape"
   ]
  },
  {
   "cell_type": "code",
   "execution_count": 19,
   "id": "a1bac335-3eff-4ec7-ad8c-bb7bded0fb2e",
   "metadata": {
    "tags": []
   },
   "outputs": [],
   "source": [
    "W2 = torch.randn((100, 27))\n",
    "b2 = torch.randn(27)"
   ]
  },
  {
   "cell_type": "code",
   "execution_count": 20,
   "id": "91d059d3-d6f3-4782-8292-f6f7d81b9492",
   "metadata": {
    "tags": []
   },
   "outputs": [],
   "source": [
    "logits = h @ W2 + b2"
   ]
  },
  {
   "cell_type": "code",
   "execution_count": 21,
   "id": "80e4bd07-28b4-406a-9ad8-75433134048c",
   "metadata": {
    "tags": []
   },
   "outputs": [
    {
     "data": {
      "text/plain": [
       "torch.Size([32, 27])"
      ]
     },
     "execution_count": 21,
     "metadata": {},
     "output_type": "execute_result"
    }
   ],
   "source": [
    "logits.shape"
   ]
  },
  {
   "cell_type": "code",
   "execution_count": 22,
   "id": "95fa7cad-1abb-46ef-a15d-a2875e818c08",
   "metadata": {
    "tags": []
   },
   "outputs": [],
   "source": [
    "counts = logits.exp()"
   ]
  },
  {
   "cell_type": "code",
   "execution_count": 23,
   "id": "08c35a7c-bd19-4279-944c-6fdda3d45a1f",
   "metadata": {
    "tags": []
   },
   "outputs": [],
   "source": [
    "prob = counts / counts.sum(1, keepdims=True)"
   ]
  },
  {
   "cell_type": "code",
   "execution_count": 24,
   "id": "dd32c24a-f752-4c73-8aa9-56f8b7b2c12b",
   "metadata": {
    "tags": []
   },
   "outputs": [
    {
     "data": {
      "text/plain": [
       "torch.Size([32, 27])"
      ]
     },
     "execution_count": 24,
     "metadata": {},
     "output_type": "execute_result"
    }
   ],
   "source": [
    "prob.shape"
   ]
  },
  {
   "cell_type": "code",
   "execution_count": 25,
   "id": "1770e2e4-d51c-4d95-b436-3415b80c7e99",
   "metadata": {
    "tags": []
   },
   "outputs": [],
   "source": [
    "loss = -prob[torch.arange(32), Y].log().mean()"
   ]
  },
  {
   "cell_type": "code",
   "execution_count": 209,
   "id": "bcdb2d41-4343-40ac-a5d9-0b409678724a",
   "metadata": {
    "tags": []
   },
   "outputs": [],
   "source": [
    "## rewrite it\n",
    "g = torch.Generator().manual_seed(2147483647)\n",
    "C = torch.randn((27, 10), generator=g)\n",
    "W1 = torch.randn((30, 200), generator=g)\n",
    "b1 = torch.randn(200, generator=g)\n",
    "W2 = torch.randn((200, 27), generator=g)\n",
    "b2 = torch.randn(27, generator=g)\n",
    "parameters = [C, W1, b1, W2, b2]"
   ]
  },
  {
   "cell_type": "code",
   "execution_count": 210,
   "id": "dd458f7c-2f7d-41d1-9daa-50c35a8df335",
   "metadata": {
    "tags": []
   },
   "outputs": [
    {
     "data": {
      "text/plain": [
       "11897"
      ]
     },
     "execution_count": 210,
     "metadata": {},
     "output_type": "execute_result"
    }
   ],
   "source": [
    "sum(p.nelement() for p in parameters)"
   ]
  },
  {
   "cell_type": "code",
   "execution_count": 207,
   "id": "a9a4e82b-317e-41fc-ab21-c2ba875d03bd",
   "metadata": {
    "tags": []
   },
   "outputs": [
    {
     "ename": "RuntimeError",
     "evalue": "mat1 and mat2 shapes cannot be multiplied (913125x6 and 30x200)",
     "output_type": "error",
     "traceback": [
      "\u001b[0;31m---------------------------------------------------------------------------\u001b[0m",
      "\u001b[0;31mRuntimeError\u001b[0m                              Traceback (most recent call last)",
      "Cell \u001b[0;32mIn[207], line 2\u001b[0m\n\u001b[1;32m      1\u001b[0m emb \u001b[38;5;241m=\u001b[39m C[X] \u001b[38;5;66;03m# 32, 3, 2\u001b[39;00m\n\u001b[0;32m----> 2\u001b[0m h \u001b[38;5;241m=\u001b[39m torch\u001b[38;5;241m.\u001b[39mtanh(emb\u001b[38;5;241m.\u001b[39mview(\u001b[38;5;241m-\u001b[39m\u001b[38;5;241m1\u001b[39m, \u001b[38;5;241m6\u001b[39m) \u001b[38;5;241m@\u001b[39m W1 \u001b[38;5;241m+\u001b[39m b1) \u001b[38;5;66;03m# 32, 100\u001b[39;00m\n\u001b[1;32m      3\u001b[0m logits \u001b[38;5;241m=\u001b[39m h \u001b[38;5;241m@\u001b[39m W2 \u001b[38;5;241m+\u001b[39m b2 \u001b[38;5;66;03m# 32, 27\u001b[39;00m\n\u001b[1;32m      4\u001b[0m \u001b[38;5;66;03m# counts = logits.exp()\u001b[39;00m\n\u001b[1;32m      5\u001b[0m \u001b[38;5;66;03m# prob = counts / counts.sum(1, keepdims=True)\u001b[39;00m\n\u001b[1;32m      6\u001b[0m \u001b[38;5;66;03m# loss = -prob[torch.arange(32), Y].log().mean()\u001b[39;00m\n",
      "\u001b[0;31mRuntimeError\u001b[0m: mat1 and mat2 shapes cannot be multiplied (913125x6 and 30x200)"
     ]
    }
   ],
   "source": [
    "emb = C[X] # 32, 3, 2\n",
    "h = torch.tanh(emb.view(-1, 6) @ W1 + b1) # 32, 100\n",
    "logits = h @ W2 + b2 # 32, 27\n",
    "# counts = logits.exp()\n",
    "# prob = counts / counts.sum(1, keepdims=True)\n",
    "# loss = -prob[torch.arange(32), Y].log().mean()\n",
    "loss = F.cross_entropy(logits, Y)\n",
    "loss"
   ]
  },
  {
   "cell_type": "code",
   "execution_count": 208,
   "id": "0f04f770-1cac-4624-aca8-187568915644",
   "metadata": {
    "tags": []
   },
   "outputs": [
    {
     "ename": "ValueError",
     "evalue": "Expected input batch_size (32) to match target batch_size (182625).",
     "output_type": "error",
     "traceback": [
      "\u001b[0;31m---------------------------------------------------------------------------\u001b[0m",
      "\u001b[0;31mValueError\u001b[0m                                Traceback (most recent call last)",
      "Cell \u001b[0;32mIn[208], line 1\u001b[0m\n\u001b[0;32m----> 1\u001b[0m F\u001b[38;5;241m.\u001b[39mcross_entropy(logits, Y)\n",
      "File \u001b[0;32m~/anaconda3/lib/python3.11/site-packages/torch/nn/functional.py:3029\u001b[0m, in \u001b[0;36mcross_entropy\u001b[0;34m(input, target, weight, size_average, ignore_index, reduce, reduction, label_smoothing)\u001b[0m\n\u001b[1;32m   3027\u001b[0m \u001b[38;5;28;01mif\u001b[39;00m size_average \u001b[38;5;129;01mis\u001b[39;00m \u001b[38;5;129;01mnot\u001b[39;00m \u001b[38;5;28;01mNone\u001b[39;00m \u001b[38;5;129;01mor\u001b[39;00m reduce \u001b[38;5;129;01mis\u001b[39;00m \u001b[38;5;129;01mnot\u001b[39;00m \u001b[38;5;28;01mNone\u001b[39;00m:\n\u001b[1;32m   3028\u001b[0m     reduction \u001b[38;5;241m=\u001b[39m _Reduction\u001b[38;5;241m.\u001b[39mlegacy_get_string(size_average, reduce)\n\u001b[0;32m-> 3029\u001b[0m \u001b[38;5;28;01mreturn\u001b[39;00m torch\u001b[38;5;241m.\u001b[39m_C\u001b[38;5;241m.\u001b[39m_nn\u001b[38;5;241m.\u001b[39mcross_entropy_loss(\u001b[38;5;28minput\u001b[39m, target, weight, _Reduction\u001b[38;5;241m.\u001b[39mget_enum(reduction), ignore_index, label_smoothing)\n",
      "\u001b[0;31mValueError\u001b[0m: Expected input batch_size (32) to match target batch_size (182625)."
     ]
    }
   ],
   "source": [
    "F.cross_entropy(logits, Y)"
   ]
  },
  {
   "cell_type": "code",
   "execution_count": 194,
   "id": "5e3d851d-b7d9-4ece-82cc-775e6ba4f65d",
   "metadata": {},
   "outputs": [
    {
     "data": {
      "text/plain": [
       "tensor(inf)"
      ]
     },
     "execution_count": 194,
     "metadata": {},
     "output_type": "execute_result"
    }
   ],
   "source": [
    "torch.tensor(90).exp()"
   ]
  },
  {
   "cell_type": "code",
   "execution_count": 211,
   "id": "7e408a52-b133-4697-9fd6-3e3b95e3a916",
   "metadata": {
    "tags": []
   },
   "outputs": [],
   "source": [
    "for p in parameters:\n",
    "    p.requires_grad = True"
   ]
  },
  {
   "cell_type": "code",
   "execution_count": 196,
   "id": "f13e3d07-d029-43c5-8b3f-53cc23fa6229",
   "metadata": {
    "scrolled": true,
    "tags": []
   },
   "outputs": [],
   "source": [
    "lrs = 10**torch.linspace(-3, 0, 1000)\n"
   ]
  },
  {
   "cell_type": "code",
   "execution_count": 212,
   "id": "b6767737-ba03-4bd9-a936-7a589b5d7d79",
   "metadata": {
    "tags": []
   },
   "outputs": [],
   "source": [
    "X, Y = Xtr, Ytr\n",
    "\n",
    "lri = []\n",
    "lossi = []\n",
    "stepi = []"
   ]
  },
  {
   "cell_type": "code",
   "execution_count": 224,
   "id": "c254a2bb-215e-4d47-9b34-03f5b3c3eb89",
   "metadata": {
    "tags": []
   },
   "outputs": [],
   "source": [
    "for i in range(50000):\n",
    "    \n",
    "    # minibatch\n",
    "    ix = torch.randint(0, X.shape[0], (32, )) # but have approximate gradient\n",
    "    \n",
    "    # forward pass\n",
    "    emb = C[X[ix]] # 32, 3, 2\n",
    "    h = torch.tanh(emb.view(-1, 30) @ W1 + b1)\n",
    "    logits = h @ W2 + b2\n",
    "    loss = F.cross_entropy(logits, Y[ix])\n",
    "    # backward pass\n",
    "    for p in parameters:\n",
    "        p.grad = None\n",
    "    loss.backward()\n",
    "    # lr = lrs[i]\n",
    "    lr = 0.01 # start with 0.1\n",
    "    for p in parameters:\n",
    "        p.data += -lr * p.grad\n",
    "        \n",
    "    #lri.append(lr)\n",
    "    #lossi.append(loss.item())\n",
    "    stepi.append(i)\n",
    "    lossi.append(loss.log10().item())"
   ]
  },
  {
   "cell_type": "code",
   "execution_count": 225,
   "id": "46ddcd78-836f-49c1-a0cc-850940ef1e44",
   "metadata": {
    "tags": []
   },
   "outputs": [
    {
     "data": {
      "text/plain": [
       "[<matplotlib.lines.Line2D at 0x2a779bc50>]"
      ]
     },
     "execution_count": 225,
     "metadata": {},
     "output_type": "execute_result"
    },
    {
     "data": {
      "image/png": "[encoded data removed]",
      "text/plain": [
       "<Figure size 640x480 with 1 Axes>"
      ]
     },
     "metadata": {},
     "output_type": "display_data"
    }
   ],
   "source": [
    "plt.plot(stepi, lossi) # \"thick because minibatch size is small\""
   ]
  },
  {
   "cell_type": "code",
   "execution_count": 226,
   "id": "08eb29cb-276f-4811-9635-9f6d996e5360",
   "metadata": {
    "tags": []
   },
   "outputs": [
    {
     "name": "stdout",
     "output_type": "stream",
     "text": [
      "2.0691895484924316\n"
     ]
    }
   ],
   "source": [
    "# overall loss\n",
    "# now dev loss\n",
    "X, Y = Xdev, Ydev\n",
    "emb = C[X] # 32, 3, 2\n",
    "h = torch.tanh(emb.view(-1, 30) @ W1 + b1)\n",
    "logits = h @ W2 + b2\n",
    "loss = F.cross_entropy(logits, Y)\n",
    "print(loss.item())\n",
    "\n",
    "# 2.3 is 'dramatically' improving over the 2.45 over the bigram model"
   ]
  },
  {
   "cell_type": "code",
   "execution_count": 230,
   "id": "fc6ff904-8d50-46cc-9f40-f904680d859a",
   "metadata": {
    "tags": []
   },
   "outputs": [
    {
     "data": {
      "image/png": "[encoded data removed]",
      "text/plain": [
       "<Figure size 800x800 with 1 Axes>"
      ]
     },
     "metadata": {},
     "output_type": "display_data"
    }
   ],
   "source": [
    "# visualize embedding\n",
    "dim1, dim2 = 0, 3\n",
    "plt.figure(figsize=(8,8))\n",
    "plt.scatter(C[:, dim1].data, C[:, dim2].data, s=200)\n",
    "for i in range(C.shape[0]):\n",
    "    plt.text(C[i, dim1].item(), C[i, dim2].item(), itos[i], ha=\"center\", va=\"center\", color='white')\n",
    "plt.grid('minor')"
   ]
  },
  {
   "cell_type": "code",
   "execution_count": 141,
   "id": "2b60f91d-fd2a-4390-9f93-4f049e3b9574",
   "metadata": {
    "tags": []
   },
   "outputs": [],
   "source": [
    "# train, dev/validation, test splits, 80/10/10\n",
    "# train: parameters\n",
    "# dev: hyperparameters\n",
    "# test: evaluate model (use sparingly)"
   ]
  },
  {
   "cell_type": "code",
   "execution_count": 143,
   "id": "7e860697-232d-4f50-884d-82f0b97d1f00",
   "metadata": {
    "tags": []
   },
   "outputs": [
    {
     "name": "stdout",
     "output_type": "stream",
     "text": [
      "torch.Size([182625, 3]) torch.Size([182625])\n",
      "torch.Size([22655, 3]) torch.Size([22655])\n",
      "torch.Size([22866, 3]) torch.Size([22866])\n"
     ]
    }
   ],
   "source": [
    "def build_dataset(words):\n",
    "    block_size = 3\n",
    "    X, Y = [], []\n",
    "    for w in words:\n",
    "        context = [0] * block_size\n",
    "        for ch in w + '.':\n",
    "            ix = stoi[ch]\n",
    "            X.append(context)\n",
    "            Y.append(ix)\n",
    "            context = context[1:] + [ix]\n",
    "    X = torch.tensor(X)\n",
    "    Y = torch.tensor(Y)\n",
    "    print(X.shape, Y.shape)\n",
    "    return X, Y\n",
    "\n",
    "import random\n",
    "random.seed(42)\n",
    "random.shuffle(words)\n",
    "n1 = int(0.8*len(words))\n",
    "n2 = int(0.9*len(words))\n",
    "\n",
    "# train, dev, test\n",
    "Xtr, Ytr = build_dataset(words[:n1]) \n",
    "Xdev, Ydev = build_dataset(words[n1:n2])\n",
    "Xte, Yte = build_dataset(words[n2:])"
   ]
  },
  {
   "cell_type": "code",
   "execution_count": null,
   "id": "48253a8e-0ce0-4776-9631-f7ee8f4d76de",
   "metadata": {},
   "outputs": [],
   "source": []
  },
  {
   "cell_type": "code",
   "execution_count": 231,
   "id": "52cf4640-f476-4c50-afeb-c5c6976f7911",
   "metadata": {
    "tags": []
   },
   "outputs": [
    {
     "name": "stdout",
     "output_type": "stream",
     "text": [
      "carmahzato.\n",
      "hari.\n",
      "kimly.\n",
      "reigh.\n",
      "skanys.\n",
      "corrhanna.\n",
      "perric.\n",
      "kaqmison.\n",
      "mari.\n",
      "chaiiv.\n",
      "kaleigh.\n",
      "ham.\n",
      "poin.\n",
      "quint.\n",
      "shoin.\n",
      "aliiani.\n",
      "wavero.\n",
      "dearystift.\n",
      "ezlively.\n",
      "edde.\n"
     ]
    }
   ],
   "source": [
    "# sample from the model\n",
    "g = torch.Generator().manual_seed(2147483647 + 10)\n",
    "\n",
    "for _ in range(20):\n",
    "    \n",
    "    out = []\n",
    "    context = [0] * block_size\n",
    "    while True:\n",
    "        emb = C[torch.tensor([context])]\n",
    "        h = torch.tanh(emb.view(1, -1) @ W1 + b1)\n",
    "        logits = h @ W2 + b2\n",
    "        probs = F.softmax(logits, dim=1)\n",
    "        ix = torch.multinomial(probs, num_samples=1, generator=g).item()\n",
    "        context = context[1:] + [ix]\n",
    "        out.append(ix)\n",
    "        if ix == 0:\n",
    "            break\n",
    "    \n",
    "    print(''.join(itos[i] for i in out))"
   ]
  },
  {
   "cell_type": "code",
   "execution_count": null,
   "id": "9b741a6c-b2bd-43f6-9599-da14b3ce5c6f",
   "metadata": {},
   "outputs": [],
   "source": []
  }
 ],
 "metadata": {
  "kernelspec": {
   "display_name": "Python 3 (ipykernel)",
   "language": "python",
   "name": "python3"
  },
  "language_info": {
   "codemirror_mode": {
    "name": "ipython",
    "version": 3
   },
   "file_extension": ".py",
   "mimetype": "text/x-python",
   "name": "python",
   "nbconvert_exporter": "python",
   "pygments_lexer": "ipython3",
   "version": "3.11.4"
  }
 },
 "nbformat": 4,
 "nbformat_minor": 5
}
