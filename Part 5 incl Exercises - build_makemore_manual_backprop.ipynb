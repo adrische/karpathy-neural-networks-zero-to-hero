{
 "cells": [
  {
   "cell_type": "markdown",
   "id": "a79200dc-0c14-4179-9c6c-74016a1d716d",
   "metadata": {},
   "source": [
    "Backpropagation from hand, part 2: Tensors.\n",
    "\n",
    "Old code:"
   ]
  },
  {
   "cell_type": "code",
   "execution_count": 1,
   "id": "b3d5af74-95d0-4279-81cc-bed3edad2c06",
   "metadata": {
    "tags": []
   },
   "outputs": [],
   "source": [
    "import torch\n",
    "import torch.nn.functional as F\n",
    "import matplotlib.pyplot as plt\n",
    "%matplotlib inline"
   ]
  },
  {
   "cell_type": "code",
   "execution_count": 2,
   "id": "1ad5c756-1d95-4474-88ba-a7311023e904",
   "metadata": {
    "tags": []
   },
   "outputs": [
    {
     "data": {
      "text/plain": [
       "['emma', 'olivia', 'ava', 'isabella', 'sophia', 'charlotte', 'mia', 'amelia']"
      ]
     },
     "execution_count": 2,
     "metadata": {},
     "output_type": "execute_result"
    }
   ],
   "source": [
    "words = open('names.txt', 'r').read().splitlines()\n",
    "words[:8]"
   ]
  },
  {
   "cell_type": "code",
   "execution_count": 3,
   "id": "bd4fe1c3-fce0-4f66-9b98-edc2c95805e0",
   "metadata": {
    "tags": []
   },
   "outputs": [
    {
     "name": "stdout",
     "output_type": "stream",
     "text": [
      "{1: 'a', 2: 'b', 3: 'c', 4: 'd', 5: 'e', 6: 'f', 7: 'g', 8: 'h', 9: 'i', 10: 'j', 11: 'k', 12: 'l', 13: 'm', 14: 'n', 15: 'o', 16: 'p', 17: 'q', 18: 'r', 19: 's', 20: 't', 21: 'u', 22: 'v', 23: 'w', 24: 'x', 25: 'y', 26: 'z', 0: '.'}\n",
      "27\n"
     ]
    }
   ],
   "source": [
    "chars = sorted(list(set(''.join(words))))\n",
    "stoi = {s:i+1 for i,s in enumerate(chars)}\n",
    "stoi['.'] = 0\n",
    "itos = {i:s for s,i in stoi.items()}\n",
    "vocab_size = len(itos)\n",
    "print(itos)\n",
    "print(vocab_size)"
   ]
  },
  {
   "cell_type": "code",
   "execution_count": 4,
   "id": "6dea4e78-eb16-4276-986e-dfa5ef814eff",
   "metadata": {
    "tags": []
   },
   "outputs": [
    {
     "name": "stdout",
     "output_type": "stream",
     "text": [
      "torch.Size([182625, 3]) torch.Size([182625])\n",
      "torch.Size([22655, 3]) torch.Size([22655])\n",
      "torch.Size([22866, 3]) torch.Size([22866])\n"
     ]
    }
   ],
   "source": [
    "# build dataset\n",
    "block_size = 3\n",
    "\n",
    "def build_dataset(words):\n",
    "    X, Y = [], []\n",
    "    \n",
    "    for w in words:\n",
    "        context = [0] * block_size\n",
    "        for ch in w + '.':\n",
    "            ix = stoi[ch]\n",
    "            X.append(context)\n",
    "            Y.append(ix)\n",
    "            context = context[1:] + [ix]\n",
    "            \n",
    "    X = torch.tensor(X)\n",
    "    Y = torch.tensor(Y)\n",
    "    print(X.shape, Y.shape)\n",
    "    return X, Y\n",
    "\n",
    "import random\n",
    "random.seed(42)\n",
    "random.shuffle(words)\n",
    "n1 = int(0.8*len(words))\n",
    "n2 = int(0.9*len(words))\n",
    "\n",
    "Xtr, Ytr = build_dataset(words[:n1])\n",
    "Xdev, Ydev = build_dataset(words[n1:n2])\n",
    "Xte, Yte = build_dataset(words[n2:])\n"
   ]
  },
  {
   "cell_type": "markdown",
   "id": "3a0ddad0-a898-4c5e-a608-ba4705e0feac",
   "metadata": {},
   "source": [
    "New code:"
   ]
  },
  {
   "cell_type": "code",
   "execution_count": 5,
   "id": "4a32f5e5-a2d5-4272-b499-235bc05e87c1",
   "metadata": {
    "tags": []
   },
   "outputs": [],
   "source": [
    "# comparison function for gradients\n",
    "def cmp(s, dt, t):\n",
    "    ex = torch.all(dt == t.grad).item()\n",
    "    app = torch.allclose(dt, t.grad)\n",
    "    maxdiff = (dt - t.grad).abs().max().item()\n",
    "    print(f'{s:15s} | exact: {str(ex):5s} | approximate: {str(app):5s} | maxdiff: {maxdiff}')"
   ]
  },
  {
   "cell_type": "code",
   "execution_count": 6,
   "id": "92a27299-d4c1-4af3-a776-78cd36d5ac81",
   "metadata": {
    "tags": []
   },
   "outputs": [
    {
     "name": "stdout",
     "output_type": "stream",
     "text": [
      "4137\n"
     ]
    }
   ],
   "source": [
    "n_embd = 10 # character embedding vector dimension\n",
    "n_hidden = 64\n",
    "\n",
    "g = torch.Generator().manual_seed(2147483647)\n",
    "C = torch.randn((vocab_size, n_embd), generator=g)\n",
    "\n",
    "# Layer 1\n",
    "W1 = torch.randn((n_embd * block_size, n_hidden), generator=g) * (5/3)/((n_embd * block_size)**0.5) \n",
    "b1 = torch.randn(n_hidden,                        generator=g) * 0.1 # biases would normally be all 0\n",
    "\n",
    "# Layer 2\n",
    "W2 = torch.randn((n_hidden, vocab_size),          generator=g) * 0.1\n",
    "b2 = torch.randn(vocab_size,                      generator=g) * 0.1 # biases would normally be all 0\n",
    "\n",
    "# Batchnorm parameters\n",
    "bngain = torch.randn((1, n_hidden) , generator=g) * 0.1 + 1.00\n",
    "bnbias = torch.randn((1, n_hidden), generator=g) * 0.1\n",
    "# batchnorm removes need for bias b1 in first layer\n",
    "\n",
    "parameters = [C, W1, b1, W2, b2, bngain, bnbias]\n",
    "print(sum(p.nelement() for p in parameters))\n",
    "for p in parameters:\n",
    "    p.requires_grad = True"
   ]
  },
  {
   "cell_type": "code",
   "execution_count": 7,
   "id": "539f6bfc-9f56-45c0-b485-29908eb5e43e",
   "metadata": {
    "tags": []
   },
   "outputs": [],
   "source": [
    "batch_size = 32\n",
    "n = batch_size\n",
    "ix = torch.randint(0, Xtr.shape[0], (batch_size, ), generator=g)\n",
    "Xb, Yb = Xtr[ix], Ytr[ix] # batch"
   ]
  },
  {
   "cell_type": "code",
   "execution_count": 8,
   "id": "f1bd09c3-5d82-4492-aee3-f8d44cf6428f",
   "metadata": {
    "tags": []
   },
   "outputs": [
    {
     "data": {
      "text/plain": [
       "tensor(3.5571, grad_fn=<NegBackward0>)"
      ]
     },
     "execution_count": 8,
     "metadata": {},
     "output_type": "execute_result"
    }
   ],
   "source": [
    "# forward pass written down to individual steps\n",
    "\n",
    "emb = C[Xb]\n",
    "embcat = emb.view(emb.shape[0], -1)\n",
    "\n",
    "# Linear layer 1\n",
    "hprebn = embcat @ W1 + b1\n",
    "\n",
    "# BatchNorm layer\n",
    "bnmeani = 1/n*hprebn.sum(0, keepdim=True)\n",
    "bndiff = hprebn - bnmeani\n",
    "bndiff2 = bndiff**2\n",
    "bnvar = 1/(n-1)*(bndiff2).sum(0, keepdim=True) # Bessel correction /(n-1), not /n\n",
    "bnvar_inv = (bnvar + 1e-5)**-0.5 # 1/std, or 1/sqrt(var + eps)\n",
    "bnraw = bndiff * bnvar_inv\n",
    "hpreact = bngain * bnraw + bnbias\n",
    "\n",
    "# Non-linearity in hidden layer\n",
    "h = torch.tanh(hpreact) \n",
    "\n",
    "# Linear layer 2, output layer\n",
    "logits = h @ W2 + b2\n",
    "\n",
    "# Cross entropy loss\n",
    "logit_maxes = logits.max(1, keepdim=True).values\n",
    "norm_logits = logits - logit_maxes # for numeric stability\n",
    "counts = norm_logits.exp()\n",
    "counts_sum = counts.sum(1, keepdims=True)\n",
    "counts_sum_inv = counts_sum**-1 # he comments that 1.0/sum is not exact? \"to be bit exact\"\n",
    "probs = counts * counts_sum_inv\n",
    "logprobs = probs.log()\n",
    "loss = -logprobs[range(n), Yb].mean()\n",
    "\n",
    "# pytorch backward pass\n",
    "for p in parameters:\n",
    "    p.grad = None\n",
    "for t in [logprobs, probs, counts, counts_sum, counts_sum_inv, \n",
    "         norm_logits, logit_maxes, logits, h, hpreact, bnraw,\n",
    "         bnvar_inv, bnvar, bndiff2, bndiff, hprebn, bnmeani,\n",
    "         embcat, emb]:\n",
    "    t.retain_grad()\n",
    "loss.backward()\n",
    "loss"
   ]
  },
  {
   "cell_type": "code",
   "execution_count": 9,
   "id": "21502934-a113-453d-96e4-d572063ff528",
   "metadata": {
    "tags": []
   },
   "outputs": [
    {
     "data": {
      "text/plain": [
       "torch.Size([32, 3, 10])"
      ]
     },
     "execution_count": 9,
     "metadata": {},
     "output_type": "execute_result"
    }
   ],
   "source": [
    "emb.shape"
   ]
  },
  {
   "cell_type": "code",
   "execution_count": 10,
   "id": "f5d1faf7-3bea-40c5-b14c-d5d3136e680a",
   "metadata": {
    "tags": []
   },
   "outputs": [
    {
     "data": {
      "text/plain": [
       "torch.Size([32, 3, 10])"
      ]
     },
     "execution_count": 10,
     "metadata": {},
     "output_type": "execute_result"
    }
   ],
   "source": [
    "embcat.view(32, 3, 10).shape"
   ]
  },
  {
   "cell_type": "code",
   "execution_count": 11,
   "id": "95903194-fef9-4037-a721-6f4f81b62d1a",
   "metadata": {
    "tags": []
   },
   "outputs": [
    {
     "data": {
      "text/plain": [
       "torch.Size([32, 30])"
      ]
     },
     "execution_count": 11,
     "metadata": {},
     "output_type": "execute_result"
    }
   ],
   "source": [
    "(hprebn @ W1.T).shape"
   ]
  },
  {
   "cell_type": "markdown",
   "id": "fec06bb8-a0dd-447a-92a2-1c36c53adc15",
   "metadata": {},
   "source": [
    "#### Exercise 1 "
   ]
  },
  {
   "cell_type": "code",
   "execution_count": 12,
   "id": "84fc92f6-6f55-49a9-a834-4a251cce9ed8",
   "metadata": {
    "tags": []
   },
   "outputs": [
    {
     "name": "stdout",
     "output_type": "stream",
     "text": [
      "logprobs        | exact: True  | approximate: True  | maxdiff: 0.0\n",
      "probs           | exact: True  | approximate: True  | maxdiff: 0.0\n",
      "counts_sum_inv  | exact: True  | approximate: True  | maxdiff: 0.0\n",
      "counts_sum      | exact: True  | approximate: True  | maxdiff: 0.0\n",
      "counts          | exact: True  | approximate: True  | maxdiff: 0.0\n",
      "norm_logits     | exact: True  | approximate: True  | maxdiff: 0.0\n",
      "logit_maxes     | exact: True  | approximate: True  | maxdiff: 0.0\n",
      "logits          | exact: True  | approximate: True  | maxdiff: 0.0\n",
      "h               | exact: True  | approximate: True  | maxdiff: 0.0\n",
      "hpreact         | exact: True  | approximate: True  | maxdiff: 0.0\n",
      "bnraw           | exact: True  | approximate: True  | maxdiff: 0.0\n",
      "bnvar_inv       | exact: True  | approximate: True  | maxdiff: 0.0\n",
      "bnvar           | exact: True  | approximate: True  | maxdiff: 0.0\n",
      "\n",
      "I don't see the mistake here, even when debugging element-by-element:\n",
      "bndiff2         | exact: False | approximate: True  | maxdiff: 1.4551915228366852e-11\n",
      "\n",
      "These are then consequentially also wrong:\n",
      "bndiff          | exact: False | approximate: True  | maxdiff: 2.3283064365386963e-10\n",
      "bnmeani         | exact: False | approximate: True  | maxdiff: 1.862645149230957e-09\n",
      "hprebn          | exact: False | approximate: True  | maxdiff: 2.3283064365386963e-10\n",
      "embcat          | exact: False | approximate: True  | maxdiff: 9.313225746154785e-10\n",
      "emb             | exact: False | approximate: True  | maxdiff: 9.313225746154785e-10\n",
      "W2              | exact: True  | approximate: True  | maxdiff: 0.0\n",
      "b2              | exact: True  | approximate: True  | maxdiff: 0.0\n",
      "bngain          | exact: True  | approximate: True  | maxdiff: 0.0\n",
      "bnbias          | exact: True  | approximate: True  | maxdiff: 0.0\n",
      "C               | exact: False | approximate: True  | maxdiff: 7.450580596923828e-09\n",
      "W1              | exact: False | approximate: True  | maxdiff: 7.450580596923828e-09\n",
      "b1              | exact: False | approximate: True  | maxdiff: 1.862645149230957e-09\n",
      "\n",
      "It is possible to obtain 0 difference by replacing /(n-1) by (n-1)**-1:\n",
      "bndiff2         | exact: True  | approximate: True  | maxdiff: 0.0\n",
      "All follow-on errors vanish then as well.\n"
     ]
    }
   ],
   "source": [
    "# his dsomething means dLoss / dsomething\n",
    "# use dL / dsomething = dL / donestepbefore * donestepbefore / dsomething\n",
    "# the first term you already have calculated, the second term you can calculate from the expression for \"onestepbefore\" as a function of \"something\"\n",
    "# multiple dependencies are additive\n",
    "# sometimes the solution could be guessed by investigating the shapes of the involved tensors\n",
    "\n",
    "dlogprobs = torch.zeros((n, vocab_size)) # he used torch.zeros_like(logprobs)\n",
    "dlogprobs[range(n), Yb] = - 1.0/n\n",
    "\n",
    "dprobs = dlogprobs / probs \n",
    "\n",
    "dcounts_sum_inv =  (counts @ dprobs.T).diag().view(32, 1) # super strange\n",
    "# his solution: (counts * dprobs).sum(1, keepdim=True)\n",
    "\n",
    "dcounts_sum = dcounts_sum_inv * (-counts_sum**-2)\n",
    "\n",
    "dcounts = torch.ones((32, 27)) * (dcounts_sum + counts_sum_inv * dprobs)\n",
    "# for the first term he used torch.ones_like(counts)\n",
    "# he uses += for both partial dcounts results\n",
    " \n",
    "dnorm_logits = dcounts * counts\n",
    "\n",
    "dlogit_maxes = -dnorm_logits.sum(1, keepdims=True) # would assume derivative is exactly 0\n",
    "\n",
    "t = torch.zeros(logits.shape)\n",
    "# the maximum appears for each entry, hence needs to be summed over the gradient for each entry\n",
    "t[range(t.shape[0]), logits.argmax(dim=1)] =  dlogit_maxes.view(-1) \n",
    "dlogits = dnorm_logits + t\n",
    "# his comments:\n",
    "#   - logits.max(1).indices has the indices (that I got with argmax)\n",
    "#   - F.one_hot to get a matrix with 0, and 1's at the right places\n",
    "\n",
    "dh = dlogits @ W2.T # guessed based on matrix dimension matching\n",
    "\n",
    "# I forgot the b and W2, because I took all variables that he assigned \"retain_grad\" to\n",
    "# why not retain_grad to b2 and W2 etc?\n",
    "\n",
    "dhpreact = dh * (1.0 - h**2)\n",
    "\n",
    "dbnraw = dhpreact * bngain.repeat(batch_size, 1)\n",
    "\n",
    "dbnvar_inv = (dbnraw * bndiff).sum(0, keepdim=True)\n",
    "\n",
    "dbnvar = dbnvar_inv * -0.5*(bnvar + 1e-5)**-1.5\n",
    "\n",
    "dbndiff2 = dbnvar.repeat(batch_size, 1) / (n - 1) # I don't see the mistake here, max difference to true result is 1.45e-11\n",
    "dbndiff2v2 = dbnvar.repeat(batch_size, 1) * (n - 1)**-1 # this works\n",
    "\n",
    "dbndiff = dbndiff2 * 2*bndiff + dbnraw * bnvar_inv\n",
    "\n",
    "dbnmeani = -dbndiff.sum(0, keepdim=True)\n",
    "\n",
    "dhprebn = dbndiff + dbnmeani.repeat(batch_size, 1)/n\n",
    "\n",
    "dembcat = dhprebn @ W1.T\n",
    "\n",
    "demb = dembcat.view(32, 3, 10)\n",
    "\n",
    "# forgot:\n",
    "dW2 = h.T @ dlogits\n",
    "db2 = dlogits.sum(0)\n",
    "dbngain = (bnraw * dhpreact).sum(0, keepdim=True)\n",
    "dbnbias = dhpreact.sum(0, keepdim=True)\n",
    "dC = torch.zeros_like(C)\n",
    "for k in range(Xb.shape[0]):\n",
    "    for j in range(Xb.shape[1]):\n",
    "        ix = Xb[k,j]\n",
    "        dC[ix] += demb[k,j]\n",
    "dW1 = embcat.T @ dhprebn\n",
    "db1 = dhprebn.sum(0)\n",
    "\n",
    "\n",
    "cmp('logprobs', dlogprobs, logprobs)\n",
    "cmp('probs', dprobs, probs) \n",
    "cmp('counts_sum_inv', dcounts_sum_inv, counts_sum_inv) \n",
    "cmp('counts_sum', dcounts_sum, counts_sum) \n",
    "cmp('counts', dcounts, counts) \n",
    "cmp('norm_logits', dnorm_logits, norm_logits) \n",
    "cmp('logit_maxes', dlogit_maxes, logit_maxes) \n",
    "cmp('logits', dlogits, logits) \n",
    "cmp('h', dh, h) \n",
    "cmp('hpreact', dhpreact, hpreact) \n",
    "cmp('bnraw', dbnraw, bnraw)\n",
    "cmp('bnvar_inv', dbnvar_inv, bnvar_inv) \n",
    "cmp('bnvar', dbnvar, bnvar) \n",
    "print(\"\\nI don't see the mistake here, even when debugging element-by-element:\")\n",
    "cmp('bndiff2', dbndiff2, bndiff2)\n",
    "print(\"\\nThese are then consequentially also wrong:\")\n",
    "cmp('bndiff', dbndiff, bndiff) \n",
    "cmp('bnmeani', dbnmeani, bnmeani)\n",
    "cmp('hprebn', dhprebn, hprebn) \n",
    "cmp('embcat', dembcat, embcat) \n",
    "cmp('emb', demb, emb)\n",
    "\n",
    "cmp('W2', dW2, W2)\n",
    "cmp('b2', db2, b2)\n",
    "cmp('bngain', dbngain, bngain)\n",
    "cmp('bnbias', dbnbias, bnbias)\n",
    "cmp('C', dC, C)\n",
    "cmp('W1', dW1, W1)\n",
    "cmp('b1', db1, b1)\n",
    "\n",
    "\n",
    "print(\"\\nIt is possible to obtain 0 difference by replacing /(n-1) by (n-1)**-1:\")\n",
    "cmp('bndiff2', dbndiff2v2, bndiff2)\n",
    "print(\"All follow-on errors vanish then as well.\")\n",
    "\n",
    "\n",
    "\n"
   ]
  },
  {
   "cell_type": "markdown",
   "id": "e52f8fe6-1bfe-4255-8b30-8e23f12acdc9",
   "metadata": {},
   "source": [
    "#### Exercise 2"
   ]
  },
  {
   "cell_type": "code",
   "execution_count": 13,
   "id": "4dc26c37-fa18-4502-a63c-f97976eddb6e",
   "metadata": {},
   "outputs": [
    {
     "name": "stdout",
     "output_type": "stream",
     "text": [
      "3.5571467876434326 diff: -2.384185791015625e-07\n"
     ]
    }
   ],
   "source": [
    "# backprop of cross-entropy loss\n",
    "loss_fast = F.cross_entropy(logits, Yb)\n",
    "print(loss_fast.item(), 'diff:', (loss_fast - loss).item())"
   ]
  },
  {
   "cell_type": "code",
   "execution_count": 67,
   "id": "97e08e1c-3583-4e7d-b104-ee89a80efab9",
   "metadata": {},
   "outputs": [
    {
     "name": "stdout",
     "output_type": "stream",
     "text": [
      "logits          | exact: False | approximate: True  | maxdiff: 5.122274160385132e-09\n"
     ]
    }
   ],
   "source": [
    "# manually derived\n",
    "dlogits = (logits.softmax(1) - F.one_hot(Yb, num_classes=27))/32\n",
    "\n",
    "cmp('logits', dlogits, logits)"
   ]
  },
  {
   "cell_type": "markdown",
   "id": "43ba3627-9d5f-4879-8dc1-a836552d0c3b",
   "metadata": {},
   "source": [
    "#### Exercise 3"
   ]
  },
  {
   "cell_type": "code",
   "execution_count": 68,
   "id": "ab590db8-dc80-4275-8922-7c1437858db6",
   "metadata": {
    "tags": []
   },
   "outputs": [],
   "source": [
    "# batchnorm layer\n",
    "# forward pass in one go:\n",
    "hpreact_fast = bngain * (hprebn - hprebn.mean(0, keepdim=True)) / torch.sqrt(hprebn.var(0, keepdim=True, unbiased=True) + 1e-5) + bnbias\n"
   ]
  },
  {
   "cell_type": "code",
   "execution_count": 74,
   "id": "44ad52c5-a45d-4440-889c-211212510ed3",
   "metadata": {
    "tags": []
   },
   "outputs": [
    {
     "name": "stdout",
     "output_type": "stream",
     "text": [
      "hprebn          | exact: False | approximate: True  | maxdiff: 9.313225746154785e-10\n"
     ]
    }
   ],
   "source": [
    "# backward pass\n",
    "# calculate dhprebn given dhpreact\n",
    "dhprebn = bngain*bnvar_inv/n * (n*dhpreact - dhpreact.sum(0) - n/(n-1)*bnraw*(dhpreact*bnraw).sum(0))\n",
    "\n",
    "cmp('hprebn', dhprebn, hprebn) # tried once, but then followed his solution\n"
   ]
  },
  {
   "cell_type": "code",
   "execution_count": 75,
   "id": "a8f801de-e414-44da-b71f-30fb04a64419",
   "metadata": {
    "tags": []
   },
   "outputs": [],
   "source": [
    "# Exercise 4 copy everything together: left it out"
   ]
  },
  {
   "cell_type": "code",
   "execution_count": null,
   "id": "36c22e65-367d-4825-8c85-6476f5bd20da",
   "metadata": {},
   "outputs": [],
   "source": []
  }
 ],
 "metadata": {
  "kernelspec": {
   "display_name": "Python 3 (ipykernel)",
   "language": "python",
   "name": "python3"
  },
  "language_info": {
   "codemirror_mode": {
    "name": "ipython",
    "version": 3
   },
   "file_extension": ".py",
   "mimetype": "text/x-python",
   "name": "python",
   "nbconvert_exporter": "python",
   "pygments_lexer": "ipython3",
   "version": "3.11.4"
  }
 },
 "nbformat": 4,
 "nbformat_minor": 5
}
