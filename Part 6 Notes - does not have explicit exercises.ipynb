{
 "cells": [
  {
   "cell_type": "code",
   "execution_count": 4,
   "id": "1d04a500-e80c-4e96-86d6-a43197fa71c4",
   "metadata": {
    "tags": []
   },
   "outputs": [],
   "source": [
    "import torch"
   ]
  },
  {
   "cell_type": "code",
   "execution_count": null,
   "id": "c6b5edfa-013a-4bef-8e75-48bdb9e91689",
   "metadata": {},
   "outputs": [],
   "source": [
    "input = torch.randn(32, 1, 5, 5)\n",
    "# With default parameters\n",
    "m = nn.Flatten()\n",
    "output = m(input)\n",
    "output.size()\n",
    "# With non-default parameters\n",
    "m = nn.Flatten(0, 2)\n",
    "output = m(input)\n",
    "output.size()"
   ]
  },
  {
   "cell_type": "markdown",
   "id": "fa0ee341-de0d-4950-9cb4-11799ef19d34",
   "metadata": {},
   "source": [
    "25 matrix multiply with more dimensions"
   ]
  },
  {
   "cell_type": "code",
   "execution_count": 37,
   "id": "9a246cb4-ef87-4f33-af60-bd7f6634b4dc",
   "metadata": {
    "tags": []
   },
   "outputs": [
    {
     "name": "stdout",
     "output_type": "stream",
     "text": [
      "torch.Size([32, 1, 5, 2])\n"
     ]
    },
    {
     "data": {
      "text/plain": [
       "tensor(True)"
      ]
     },
     "execution_count": 37,
     "metadata": {},
     "output_type": "execute_result"
    }
   ],
   "source": [
    "a = torch.randn(32, 1, 5, 5)\n",
    "b = torch.randn(5, 2)\n",
    "\n",
    "c = a @ b\n",
    "print(c.shape)\n",
    "d = torch.zeros(32, 1, 5, 2)\n",
    "for i in range(32):\n",
    "    for j in range(1):\n",
    "        d[i, j, :, :] = a[i, j, :, :] @ b\n",
    "\n",
    "(d==c).all()\n"
   ]
  },
  {
   "cell_type": "code",
   "execution_count": 38,
   "id": "4b2cfdb8-e36d-44d0-a26c-a4eccfe66727",
   "metadata": {
    "tags": []
   },
   "outputs": [
    {
     "data": {
      "text/plain": [
       "tensor([[0, 1],\n",
       "        [2, 3],\n",
       "        [4, 5]])"
      ]
     },
     "execution_count": 38,
     "metadata": {},
     "output_type": "execute_result"
    }
   ],
   "source": [
    "a = torch.tensor(range(6)).view(3,2)\n",
    "a"
   ]
  },
  {
   "cell_type": "code",
   "execution_count": 43,
   "id": "9cb4ad02-7a31-459b-a053-d0869c826e45",
   "metadata": {
    "tags": []
   },
   "outputs": [
    {
     "data": {
      "text/plain": [
       "tensor([[ 6,  7],\n",
       "        [ 8,  9],\n",
       "        [10, 11]])"
      ]
     },
     "execution_count": 43,
     "metadata": {},
     "output_type": "execute_result"
    }
   ],
   "source": [
    "b = torch.tensor(range(6,12)).view(3,2)\n",
    "b"
   ]
  },
  {
   "cell_type": "code",
   "execution_count": 48,
   "id": "749576ba-950d-4cd2-b4ed-c57a22ca35a3",
   "metadata": {
    "tags": []
   },
   "outputs": [
    {
     "data": {
      "text/plain": [
       "tensor([[ 0,  1,  6,  7],\n",
       "        [ 2,  3,  8,  9],\n",
       "        [ 4,  5, 10, 11]])"
      ]
     },
     "execution_count": 48,
     "metadata": {},
     "output_type": "execute_result"
    }
   ],
   "source": [
    "torch.cat((a, b), dim=1)"
   ]
  },
  {
   "cell_type": "markdown",
   "id": "52208e6e-bacd-472c-8d1f-6e5cb8a52ec2",
   "metadata": {},
   "source": [
    "8 characters\n",
    "represented as 10 dimensional vectors\n",
    "4 times 2 characters in a hidden layer concatenate\n",
    "linear layer \n",
    "non-linearity\n",
    "gives 4 blocks of some shapes\n",
    "2 times 2 blocks of some shape\n",
    "repeat\n",
    "2 blocks some shape\n",
    "..\n",
    "1 block some shape\n",
    "softmax over everything\n",
    "\n"
   ]
  },
  {
   "cell_type": "markdown",
   "id": "5b31ab73-d262-4d6b-a6c9-61df10e3492f",
   "metadata": {},
   "source": [
    "google residual and skip connections"
   ]
  },
  {
   "cell_type": "markdown",
   "id": "d59eb81a-51c5-49b1-8483-017586e27187",
   "metadata": {},
   "source": [
    "try to beat 1.993"
   ]
  },
  {
   "cell_type": "code",
   "execution_count": null,
   "id": "ccb98c68-2e33-4d94-985c-cda0b752859e",
   "metadata": {},
   "outputs": [],
   "source": []
  },
  {
   "cell_type": "code",
   "execution_count": null,
   "id": "6eea2ef0-25bf-44d7-ab92-74667bf8662d",
   "metadata": {},
   "outputs": [],
   "source": [
    "\n"
   ]
  }
 ],
 "metadata": {
  "kernelspec": {
   "display_name": "Python 3 (ipykernel)",
   "language": "python",
   "name": "python3"
  },
  "language_info": {
   "codemirror_mode": {
    "name": "ipython",
    "version": 3
   },
   "file_extension": ".py",
   "mimetype": "text/x-python",
   "name": "python",
   "nbconvert_exporter": "python",
   "pygments_lexer": "ipython3",
   "version": "3.11.5"
  }
 },
 "nbformat": 4,
 "nbformat_minor": 5
}
